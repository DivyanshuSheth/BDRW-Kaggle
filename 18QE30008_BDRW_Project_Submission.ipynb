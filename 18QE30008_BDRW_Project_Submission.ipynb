{
  "nbformat": 4,
  "nbformat_minor": 0,
  "metadata": {
    "colab": {
      "name": "18QE30008 - BDRW Project Submission.ipynb",
      "provenance": [],
      "collapsed_sections": [],
      "toc_visible": true
    },
    "kernelspec": {
      "name": "python3",
      "display_name": "Python 3"
    },
    "accelerator": "GPU"
  },
  "cells": [
    {
      "cell_type": "markdown",
      "metadata": {
        "id": "Sck-MQX8GyXe",
        "colab_type": "text"
      },
      "source": [
        "# **AI61002 DLFA**\n",
        "# **Bengali Digit Recognition Project**\n",
        "##    **-Divyanshu Sheth, 18QE30008**\n",
        "\n",
        "The tried and tested architecture for digit recognition, LeNet, has been used for this project. The final test accuracy obtained is 94.2857%, with the final F1-score on the test set being 0.9368. The model was trained over 120 epochs over the dataset, which had 1393 images with their corresponding ground-truth labels. \n",
        "\n",
        "1. >The dataset was spilt as follows: **70% train set, 15% validation set and 15% test set**. This amounts to 974 images for training and about 210 images for validation and testing.\n",
        "\n",
        "2. \n",
        ">Yes:\n",
        "i) A **manual rescaling weight** has been given to each class while defining the **loss function**. This ensures that the model will be largely penalised if it wrongly classifies images belonging to minority classes. The **weights assigned to the classes are the inverse of their corresponding image counts** in the dataset, which results in minority classes being given high weights and majority classes relatively low weights.\n",
        "ii) **F1-score** has been chosen as the **primary evaluation metric**. The model was trained until a favourable outcome for F1-score on validation data was observed. Also, results on the test set have been presented as F1-score values.\n",
        "\n",
        "3. >Yes, **Cosine Annealing with Warm Restarts** has been incorporated in the model.\n",
        "\n",
        "4. >Training and validation curves have been **plotted towards the end of the notebook**. For deciding on when to stop training the model, it was **run over 200 epochs**, taking **validation results on after every epoch**; what was observed was that training and validation accuracy curves reach saturation and then the validation curve (based on F1-score and accuracy) gradually starts dipping after about 120 epochs of training. Thus, when the **validation loss** was observed to be **minimum**, i.e. maximum validation accuracy/F1-score, training was stopped.\n",
        "\n",
        "5. >The total number of parameters in the model is 62006. The space taken up by the model is 1984 kilobytes. \n"
      ]
    },
    {
      "cell_type": "code",
      "metadata": {
        "id": "Ola-vlNqKMVV",
        "colab_type": "code",
        "colab": {}
      },
      "source": [
        "# Please change xls_file_location to the file location of the xls file containing ground-truth labels for the images,\n",
        "# and root_dir_location to the location of the folder containing all images in the dataset. \n",
        "\n",
        "xls_file_location = '/content/drive/My Drive/AI Work/BDRW Project/datasets/dataset_provided/labels/labels.xls'\n",
        "root_dir_location = '/content/drive/My Drive/AI Work/BDRW Project/datasets/dataset_provided/images'"
      ],
      "execution_count": 0,
      "outputs": []
    },
    {
      "cell_type": "code",
      "metadata": {
        "id": "Ylcdve2CRP5v",
        "colab_type": "code",
        "outputId": "50c7bdf5-d84a-4e7e-a33b-b54fad89c672",
        "colab": {
          "base_uri": "https://localhost:8080/",
          "height": 34
        }
      },
      "source": [
        "# Imports for essential libraries:\n",
        "\n",
        "%matplotlib inline\n",
        "import os\n",
        "import torch\n",
        "import torch.nn as nn\n",
        "import torch.nn.functional as F\n",
        "import torch.optim as optim\n",
        "from torch.utils.data import Dataset  \n",
        "from torchvision import transforms, datasets\n",
        "import numpy as np\n",
        "import pandas as pd\n",
        "import matplotlib.pyplot as plt\n",
        "from sklearn.metrics import f1_score\n",
        "import PIL\n",
        "from PIL import Image\n",
        "\n",
        "torch.manual_seed(42)"
      ],
      "execution_count": 29,
      "outputs": [
        {
          "output_type": "execute_result",
          "data": {
            "text/plain": [
              "<torch._C.Generator at 0x7fb2b7b203f0>"
            ]
          },
          "metadata": {
            "tags": []
          },
          "execution_count": 29
        }
      ]
    },
    {
      "cell_type": "code",
      "metadata": {
        "id": "UNhm0bCd0cUO",
        "colab_type": "code",
        "colab": {}
      },
      "source": [
        "# Images are resized to 32 x 32 before passing in the model. Data Augmentation has been done to improve the robustness of the model. \n",
        "# Random rotations by +/- 15 degrees, random color jitters and random conversion to grayscale images have been done.\n",
        "# Also, images have been normalized to enable better convergence while training.\n",
        "\n",
        "data_transform = transforms.Compose([transforms.Resize((32, 32), interpolation = PIL.Image.BILINEAR),\n",
        "                                     transforms.RandomRotation(degrees=(-15, 15)),\n",
        "                                     transforms.ColorJitter(brightness=0.5, contrast=0.5, saturation=0.5, hue=0.5),\n",
        "                                     transforms.RandomGrayscale(p=0.1),\n",
        "                                     transforms.ToTensor(), \n",
        "                                     transforms.Normalize(mean=[0.485, 0.456, 0.406],std=[0.229, 0.224, 0.225])])"
      ],
      "execution_count": 0,
      "outputs": []
    },
    {
      "cell_type": "code",
      "metadata": {
        "id": "fTPKRfPSilUV",
        "colab_type": "code",
        "colab": {}
      },
      "source": [
        "# The class for the provided dataset is defined here. \n",
        "# __len__ returns the length of the dataset and __getitem__ returns an image and its corresponding label.\n",
        "\n",
        "class BDRWDataset(Dataset):\n",
        "    def __init__(self, xls_file, root_dir, transform = data_transform):\n",
        "        \"\"\"\n",
        "        Args:\n",
        "            csv_file (string): Path to the xls file with ground truth labels.\n",
        "            root_dir (string): Directory with all the images.\n",
        "        \"\"\"\n",
        "        self.xls_file = pd.read_excel(xls_file) \n",
        "        self.root_dir = root_dir\n",
        "        self.transform = transform\n",
        "\n",
        "    def __len__(self):\n",
        "        return len(self.xls_file)\n",
        "\n",
        "    def __getitem__(self, idx):\n",
        "        if torch.is_tensor(idx):\n",
        "            idx = idx.tolist()\n",
        "\n",
        "        image = Image.open(os.path.join(self.root_dir, (self.xls_file.iloc[idx, 0]) + '.jpg'))\n",
        "        digit_label = self.xls_file.iloc[idx, 1]\n",
        "\n",
        "        if self.transform:\n",
        "            image = self.transform(image)\n",
        "        return (image, digit_label)"
      ],
      "execution_count": 0,
      "outputs": []
    },
    {
      "cell_type": "code",
      "metadata": {
        "id": "ySpmNSXt1BhY",
        "colab_type": "code",
        "colab": {}
      },
      "source": [
        "# We define and build the datasets and DataLoaders for training, validation and test sets.\n",
        "\n",
        "dataset = BDRWDataset(xls_file = xls_file_location,\n",
        "                      root_dir = root_dir_location)\n",
        "\n",
        "batch_size = 256\n",
        "\n",
        "# The dataset has been split into 70% train, 15% validation, and 15% test sets.\n",
        "\n",
        "validation_split = 0.15\n",
        "test_split = 0.15     \n",
        "\n",
        "# Calculating the sizes of the datasets, and randomly splitting the data into the three sets:\n",
        "\n",
        "train_size = int((1 - test_split - validation_split) * len(dataset))\n",
        "validation_size = (int)(validation_split * len(dataset))\n",
        "test_size = len(dataset) - train_size - validation_size\n",
        "train_dataset, validation_dataset, test_dataset = torch.utils.data.random_split(dataset, [train_size, validation_size, test_size])\n",
        "\n",
        "# Defining train, validation and test DataLoaders:\n",
        "\n",
        "train_loader = torch.utils.data.DataLoader(train_dataset, batch_size = batch_size, shuffle = True, num_workers = 4)\n",
        "validation_loader = torch.utils.data.DataLoader(validation_dataset, batch_size = batch_size, shuffle = True, num_workers = 4)\n",
        "test_loader = torch.utils.data.DataLoader(test_dataset, batch_size = batch_size, shuffle = True, num_workers = 4)"
      ],
      "execution_count": 0,
      "outputs": []
    },
    {
      "cell_type": "code",
      "metadata": {
        "id": "36K73-wjHvEq",
        "colab_type": "code",
        "outputId": "eca097e5-1caa-4643-d01f-0a0eb9183e88",
        "colab": {
          "base_uri": "https://localhost:8080/",
          "height": 67
        }
      },
      "source": [
        "print('Train set size = ' + str(len(train_loader.dataset)))\n",
        "print('Validation set size = ' + str(len(validation_dataset)))\n",
        "print('Test set size = ' + str(len(test_loader.dataset)))"
      ],
      "execution_count": 33,
      "outputs": [
        {
          "output_type": "stream",
          "text": [
            "Train set size = 974\n",
            "Validation set size = 208\n",
            "Test set size = 210\n"
          ],
          "name": "stdout"
        }
      ]
    },
    {
      "cell_type": "code",
      "metadata": {
        "id": "jNoLl0m_Ku-c",
        "colab_type": "code",
        "colab": {}
      },
      "source": [
        "# Defining the architecture of the model (LeNet):\n",
        "\n",
        "class LeNet(nn.Module):\n",
        "    def __init__(self):\n",
        "        super(LeNet, self).__init__()\n",
        "        self.conv1 = nn.Conv2d(3, 6, kernel_size=5)\n",
        "        self.pool1 = nn.MaxPool2d(kernel_size=2,stride=2)\n",
        "        self.conv2 = nn.Conv2d(6, 16, kernel_size=5)\n",
        "        self.pool2 = nn.MaxPool2d(kernel_size=2,stride=2)        \n",
        "        self.fc1 = nn.Linear(400, 120)\n",
        "        self.fc2 = nn.Linear(120, 84)\n",
        "        self.fc3 = nn.Linear(84, 10)\n",
        "\n",
        "    def forward(self, x):\n",
        "        x = F.relu(self.conv1(x))\n",
        "        x = self.pool1(x)\n",
        "        x = F.relu(self.conv2(x))\n",
        "        x = self.pool2(x)\n",
        "        x = x.view(-1, 400)\n",
        "        x = F.relu(self.fc1(x)) \n",
        "        x = F.relu(self.fc2(x))\n",
        "        x = self.fc3(x)\n",
        "        return F.log_softmax(x,dim=1)"
      ],
      "execution_count": 0,
      "outputs": []
    },
    {
      "cell_type": "code",
      "metadata": {
        "id": "brNAIE1bLtIj",
        "colab_type": "code",
        "outputId": "ccccc492-b7a0-4336-a2f5-cd1cfe537c98",
        "colab": {
          "base_uri": "https://localhost:8080/",
          "height": 202
        }
      },
      "source": [
        "# Declaring 'net' as an object of the LeNet class, checking for GPU availability, and printing out the defined model:\n",
        "\n",
        "net = LeNet()\n",
        "if torch.cuda.is_available():\n",
        "  !nvidia-smi -L\n",
        "  net = net.cuda()\n",
        "print('\\n', net)"
      ],
      "execution_count": 35,
      "outputs": [
        {
          "output_type": "stream",
          "text": [
            "GPU 0: Tesla K80 (UUID: GPU-c80717fb-5cde-7651-787e-40427c135942)\n",
            "\n",
            " LeNet(\n",
            "  (conv1): Conv2d(3, 6, kernel_size=(5, 5), stride=(1, 1))\n",
            "  (pool1): MaxPool2d(kernel_size=2, stride=2, padding=0, dilation=1, ceil_mode=False)\n",
            "  (conv2): Conv2d(6, 16, kernel_size=(5, 5), stride=(1, 1))\n",
            "  (pool2): MaxPool2d(kernel_size=2, stride=2, padding=0, dilation=1, ceil_mode=False)\n",
            "  (fc1): Linear(in_features=400, out_features=120, bias=True)\n",
            "  (fc2): Linear(in_features=120, out_features=84, bias=True)\n",
            "  (fc3): Linear(in_features=84, out_features=10, bias=True)\n",
            ")\n"
          ],
          "name": "stdout"
        }
      ]
    },
    {
      "cell_type": "code",
      "metadata": {
        "id": "ugwnQI7YUiO2",
        "colab_type": "code",
        "colab": {
          "base_uri": "https://localhost:8080/",
          "height": 34
        },
        "outputId": "9fdd3b91-0dce-41f6-8886-52d7c36361c8"
      },
      "source": [
        "# Total number of parameters in the model:\n",
        "\n",
        "pytorch_total_params = sum(p.numel() for p in net.parameters())\n",
        "print('Total parameters = ' + str(pytorch_total_params))\n",
        "\n",
        "# for space taken up by the model, we multiply this by the size of each parameter."
      ],
      "execution_count": 50,
      "outputs": [
        {
          "output_type": "stream",
          "text": [
            "Total parameters = 62006\n"
          ],
          "name": "stdout"
        }
      ]
    },
    {
      "cell_type": "code",
      "metadata": {
        "id": "E6JOcxdiwGRH",
        "colab_type": "code",
        "colab": {}
      },
      "source": [
        "# Class sample counts are the frequencies of occurence of classes at the corresponding locations. \n",
        "# There are 166 images of digit 0, 281 for digit 1, and so on, in the dataset.\n",
        "# The weights is declared to be the inverse of image counts by class. \n",
        "# These weights, which will be passed in the loss function, will result in giving higher importance to minority classes while calculating loss.\n",
        "\n",
        "class_sample_counts = [166, 281, 211, 133, 124, 126, 98, 89, 83, 81]\n",
        "weights_temp = [1 / csc for csc in class_sample_counts]\n",
        "\n",
        "weights = torch.Tensor(weights_temp)\n",
        "if torch.cuda.is_available():\n",
        "  weights = weights.cuda()"
      ],
      "execution_count": 0,
      "outputs": []
    },
    {
      "cell_type": "code",
      "metadata": {
        "id": "73xqSknZL7AP",
        "colab_type": "code",
        "outputId": "29b5af46-8dc5-420a-b421-cc5737b02f3e",
        "colab": {
          "base_uri": "https://localhost:8080/",
          "height": 1000
        }
      },
      "source": [
        "learning_rate = 0.01\n",
        "\n",
        "# Loss function defined as Binary Cross Entropy Loss:\n",
        "\n",
        "criterion = nn.CrossEntropyLoss(weight = weights) \n",
        "\n",
        "# Adaptive Momentum (Adam) is used as optimizer:\n",
        "\n",
        "optimizer = optim.Adam(net.parameters(), lr = learning_rate)\n",
        "\n",
        "# Cosine Annealing with Warm Restarts has been used:\n",
        "\n",
        "scheduler = optim.lr_scheduler.CosineAnnealingWarmRestarts(optimizer, T_0 = 10, T_mult=1, eta_min=0, last_epoch=-1)\n",
        "\n",
        "# The number of epochs was chosen after analysing the training and validation curves for 200 epochs, as stated in the beginning.\n",
        "\n",
        "num_epochs = 120\n",
        "\n",
        "# Lists defined to keep track of values at each epoch, for plotting graphs later:\n",
        "\n",
        "train_loss = []\n",
        "train_accuracy = []\n",
        "validation_accuracy = []\n",
        "f1_scores = []\n",
        "\n",
        "for epoch in range(num_epochs):\n",
        "    \n",
        "    running_loss = 0.0 \n",
        "    running_corr = 0\n",
        "    \n",
        "    for i,data in enumerate(train_loader):\n",
        "        \n",
        "        inputs, labels = data\n",
        "        if torch.cuda.is_available():\n",
        "            inputs, labels = inputs.cuda(), labels.cuda() \n",
        "        labels = labels.long()\n",
        "        \n",
        "        # Initializing model gradients to zero\n",
        "        \n",
        "        net.zero_grad() \n",
        "        \n",
        "        # Data feed-forward through the network\n",
        "        \n",
        "        outputs = net(inputs)\n",
        "        \n",
        "        # Predicted class is the one with maximum probability\n",
        "        \n",
        "        preds = torch.argmax(outputs,dim=1)\n",
        "\n",
        "        # Finding the loss\n",
        "\n",
        "        loss = criterion(outputs, labels)\n",
        "        \n",
        "        # Accumulating the loss for each batch\n",
        "        \n",
        "        running_loss += loss \n",
        "        \n",
        "        # Accumulate number of correct predictions\n",
        "        \n",
        "        running_corr += torch.sum(preds==labels)    \n",
        "       \n",
        "    totalLoss = running_loss/(i+1)\n",
        "    \n",
        "    # Calculating gradients\n",
        "    \n",
        "    totalLoss.backward()\n",
        "    \n",
        "    # Updating the model parameters\n",
        "    \n",
        "    optimizer.step()\n",
        "\n",
        "    # Scheduler step for warm restart:\n",
        "\n",
        "    scheduler.step(epoch + i / len(train_loader))\n",
        "        \n",
        "    epoch_loss = running_loss.item()/(i+1)                #Total loss for one epoch\n",
        "    epoch_acc = running_corr.item()/len(train_dataset)\n",
        "         \n",
        "    train_loss.append(epoch_loss)                         #Saving the loss over epochs for plotting the graph\n",
        "    train_accuracy.append(epoch_acc)                      #Saving the accuracy over epochs for plotting the graph\n",
        "      \n",
        "    correct_pred = 0\n",
        "    f1 = 0\n",
        "\n",
        "    # Evaluating performance on the validation set:\n",
        "\n",
        "    for data in validation_loader:\n",
        "        inputs,labels = data\n",
        "        if torch.cuda.is_available():\n",
        "            inputs, labels = inputs.cuda(),labels.cuda()\n",
        "        \n",
        "        # Feedforward train data batch through model\n",
        "        output = net(inputs) \n",
        "        \n",
        "        # Predicted class is the one with maximum probability\n",
        "        preds = torch.argmax(output,dim=1)\n",
        "        \n",
        "        correct_pred += torch.sum(preds==labels)\n",
        "        \n",
        "        labels, preds = labels.cpu().numpy(), preds.cpu().numpy()\n",
        "        \n",
        "        # Determining the F1-Score on validation data:\n",
        "\n",
        "        f1 = f1_score(labels, preds, average = 'macro')\n",
        "    \n",
        "    # Calculating validation accuracy, appending to lists\n",
        "\n",
        "    validation_acc = correct_pred.item()/len(validation_loader.dataset)\n",
        "    validation_accuracy.append(validation_acc)\n",
        "    f1_scores.append(f1)\n",
        "    \n",
        "    print('Epoch {:.0f}/{:.0f}:\\n Training loss: {:.4f} | Training Accuracy: {:.4f} | Validation Accuracy: {:.4f} | Validation F1 Score: {:.4f}'.format(epoch+1, num_epochs, epoch_loss, epoch_acc*100, validation_acc * 100, f1))"
      ],
      "execution_count": 37,
      "outputs": [
        {
          "output_type": "stream",
          "text": [
            "Epoch 1/120:\n",
            " Training loss: 2.3056 | Training Accuracy: 17.5565 | Validation Accuracy: 7.2115 | Validation F1 Score: 0.0135\n",
            "Epoch 2/120:\n",
            " Training loss: 2.3006 | Training Accuracy: 9.5483 | Validation Accuracy: 9.6154 | Validation F1 Score: 0.0496\n",
            "Epoch 3/120:\n",
            " Training loss: 2.2753 | Training Accuracy: 10.7803 | Validation Accuracy: 19.7115 | Validation F1 Score: 0.1444\n",
            "Epoch 4/120:\n",
            " Training loss: 2.1895 | Training Accuracy: 24.2300 | Validation Accuracy: 23.5577 | Validation F1 Score: 0.1718\n",
            "Epoch 5/120:\n",
            " Training loss: 2.0826 | Training Accuracy: 28.8501 | Validation Accuracy: 18.2692 | Validation F1 Score: 0.1462\n",
            "Epoch 6/120:\n",
            " Training loss: 2.0506 | Training Accuracy: 21.9713 | Validation Accuracy: 44.7115 | Validation F1 Score: 0.3866\n",
            "Epoch 7/120:\n",
            " Training loss: 1.8187 | Training Accuracy: 48.1520 | Validation Accuracy: 47.1154 | Validation F1 Score: 0.3984\n",
            "Epoch 8/120:\n",
            " Training loss: 1.7881 | Training Accuracy: 47.7413 | Validation Accuracy: 47.1154 | Validation F1 Score: 0.4063\n",
            "Epoch 9/120:\n",
            " Training loss: 1.6949 | Training Accuracy: 51.5400 | Validation Accuracy: 53.3654 | Validation F1 Score: 0.4931\n",
            "Epoch 10/120:\n",
            " Training loss: 1.6737 | Training Accuracy: 50.3080 | Validation Accuracy: 50.4808 | Validation F1 Score: 0.4733\n",
            "Epoch 11/120:\n",
            " Training loss: 1.6439 | Training Accuracy: 51.0267 | Validation Accuracy: 56.2500 | Validation F1 Score: 0.5239\n",
            "Epoch 12/120:\n",
            " Training loss: 1.6289 | Training Accuracy: 51.6427 | Validation Accuracy: 16.3462 | Validation F1 Score: 0.1196\n",
            "Epoch 13/120:\n",
            " Training loss: 3.0304 | Training Accuracy: 15.7084 | Validation Accuracy: 51.4423 | Validation F1 Score: 0.5235\n",
            "Epoch 14/120:\n",
            " Training loss: 1.6315 | Training Accuracy: 47.8439 | Validation Accuracy: 50.4808 | Validation F1 Score: 0.4536\n",
            "Epoch 15/120:\n",
            " Training loss: 1.5905 | Training Accuracy: 51.3347 | Validation Accuracy: 53.8462 | Validation F1 Score: 0.4884\n",
            "Epoch 16/120:\n",
            " Training loss: 1.5196 | Training Accuracy: 53.4908 | Validation Accuracy: 55.7692 | Validation F1 Score: 0.4919\n",
            "Epoch 17/120:\n",
            " Training loss: 1.5084 | Training Accuracy: 56.0575 | Validation Accuracy: 57.6923 | Validation F1 Score: 0.5142\n",
            "Epoch 18/120:\n",
            " Training loss: 1.4813 | Training Accuracy: 55.8522 | Validation Accuracy: 56.7308 | Validation F1 Score: 0.5145\n",
            "Epoch 19/120:\n",
            " Training loss: 1.4635 | Training Accuracy: 58.4189 | Validation Accuracy: 59.6154 | Validation F1 Score: 0.5401\n",
            "Epoch 20/120:\n",
            " Training loss: 1.4305 | Training Accuracy: 57.7002 | Validation Accuracy: 60.0962 | Validation F1 Score: 0.5492\n",
            "Epoch 21/120:\n",
            " Training loss: 1.4309 | Training Accuracy: 57.5975 | Validation Accuracy: 61.5385 | Validation F1 Score: 0.5585\n",
            "Epoch 22/120:\n",
            " Training loss: 1.4603 | Training Accuracy: 58.3162 | Validation Accuracy: 64.9038 | Validation F1 Score: 0.6214\n",
            "Epoch 23/120:\n",
            " Training loss: 1.2375 | Training Accuracy: 66.5298 | Validation Accuracy: 66.8269 | Validation F1 Score: 0.6525\n",
            "Epoch 24/120:\n",
            " Training loss: 1.0913 | Training Accuracy: 66.9405 | Validation Accuracy: 62.9808 | Validation F1 Score: 0.6285\n",
            "Epoch 25/120:\n",
            " Training loss: 0.9609 | Training Accuracy: 66.2218 | Validation Accuracy: 63.9423 | Validation F1 Score: 0.6330\n",
            "Epoch 26/120:\n",
            " Training loss: 0.8759 | Training Accuracy: 67.7618 | Validation Accuracy: 73.0769 | Validation F1 Score: 0.7206\n",
            "Epoch 27/120:\n",
            " Training loss: 0.8069 | Training Accuracy: 72.1766 | Validation Accuracy: 75.0000 | Validation F1 Score: 0.7576\n",
            "Epoch 28/120:\n",
            " Training loss: 0.7472 | Training Accuracy: 75.3593 | Validation Accuracy: 74.5192 | Validation F1 Score: 0.7405\n",
            "Epoch 29/120:\n",
            " Training loss: 0.7274 | Training Accuracy: 76.8994 | Validation Accuracy: 75.4808 | Validation F1 Score: 0.7498\n",
            "Epoch 30/120:\n",
            " Training loss: 0.7222 | Training Accuracy: 76.0780 | Validation Accuracy: 76.4423 | Validation F1 Score: 0.7611\n",
            "Epoch 31/120:\n",
            " Training loss: 0.6974 | Training Accuracy: 77.6181 | Validation Accuracy: 76.4423 | Validation F1 Score: 0.7714\n",
            "Epoch 32/120:\n",
            " Training loss: 0.6700 | Training Accuracy: 78.5421 | Validation Accuracy: 67.3077 | Validation F1 Score: 0.6784\n",
            "Epoch 33/120:\n",
            " Training loss: 0.6794 | Training Accuracy: 74.8460 | Validation Accuracy: 84.1346 | Validation F1 Score: 0.8200\n",
            "Epoch 34/120:\n",
            " Training loss: 0.5707 | Training Accuracy: 81.6222 | Validation Accuracy: 84.6154 | Validation F1 Score: 0.8317\n",
            "Epoch 35/120:\n",
            " Training loss: 0.5058 | Training Accuracy: 85.4209 | Validation Accuracy: 87.0192 | Validation F1 Score: 0.8633\n",
            "Epoch 36/120:\n",
            " Training loss: 0.3969 | Training Accuracy: 87.5770 | Validation Accuracy: 81.7308 | Validation F1 Score: 0.8132\n",
            "Epoch 37/120:\n",
            " Training loss: 0.4426 | Training Accuracy: 84.8049 | Validation Accuracy: 85.5769 | Validation F1 Score: 0.8446\n",
            "Epoch 38/120:\n",
            " Training loss: 0.4034 | Training Accuracy: 86.5503 | Validation Accuracy: 88.4615 | Validation F1 Score: 0.8692\n",
            "Epoch 39/120:\n",
            " Training loss: 0.3712 | Training Accuracy: 87.1663 | Validation Accuracy: 86.5385 | Validation F1 Score: 0.8495\n",
            "Epoch 40/120:\n",
            " Training loss: 0.3802 | Training Accuracy: 88.5010 | Validation Accuracy: 88.4615 | Validation F1 Score: 0.8729\n",
            "Epoch 41/120:\n",
            " Training loss: 0.3825 | Training Accuracy: 89.7331 | Validation Accuracy: 86.5385 | Validation F1 Score: 0.8485\n",
            "Epoch 42/120:\n",
            " Training loss: 0.3763 | Training Accuracy: 88.6037 | Validation Accuracy: 87.0192 | Validation F1 Score: 0.8503\n",
            "Epoch 43/120:\n",
            " Training loss: 0.3448 | Training Accuracy: 89.3224 | Validation Accuracy: 83.6538 | Validation F1 Score: 0.8288\n",
            "Epoch 44/120:\n",
            " Training loss: 0.3398 | Training Accuracy: 88.1930 | Validation Accuracy: 87.0192 | Validation F1 Score: 0.8608\n",
            "Epoch 45/120:\n",
            " Training loss: 0.3159 | Training Accuracy: 89.3224 | Validation Accuracy: 82.6923 | Validation F1 Score: 0.8141\n",
            "Epoch 46/120:\n",
            " Training loss: 0.2700 | Training Accuracy: 91.1704 | Validation Accuracy: 87.0192 | Validation F1 Score: 0.8616\n",
            "Epoch 47/120:\n",
            " Training loss: 0.2655 | Training Accuracy: 92.2998 | Validation Accuracy: 87.9808 | Validation F1 Score: 0.8742\n",
            "Epoch 48/120:\n",
            " Training loss: 0.2402 | Training Accuracy: 91.9918 | Validation Accuracy: 88.9423 | Validation F1 Score: 0.8776\n",
            "Epoch 49/120:\n",
            " Training loss: 0.2330 | Training Accuracy: 93.1211 | Validation Accuracy: 85.0962 | Validation F1 Score: 0.8412\n",
            "Epoch 50/120:\n",
            " Training loss: 0.2100 | Training Accuracy: 92.7105 | Validation Accuracy: 87.5000 | Validation F1 Score: 0.8643\n",
            "Epoch 51/120:\n",
            " Training loss: 0.1967 | Training Accuracy: 93.4292 | Validation Accuracy: 88.4615 | Validation F1 Score: 0.8649\n",
            "Epoch 52/120:\n",
            " Training loss: 0.2502 | Training Accuracy: 92.6078 | Validation Accuracy: 87.5000 | Validation F1 Score: 0.8600\n",
            "Epoch 53/120:\n",
            " Training loss: 0.2135 | Training Accuracy: 92.7105 | Validation Accuracy: 90.8654 | Validation F1 Score: 0.8998\n",
            "Epoch 54/120:\n",
            " Training loss: 0.1633 | Training Accuracy: 94.4559 | Validation Accuracy: 87.9808 | Validation F1 Score: 0.8639\n",
            "Epoch 55/120:\n",
            " Training loss: 0.1985 | Training Accuracy: 94.3532 | Validation Accuracy: 89.4231 | Validation F1 Score: 0.8860\n",
            "Epoch 56/120:\n",
            " Training loss: 0.1803 | Training Accuracy: 94.0452 | Validation Accuracy: 86.5385 | Validation F1 Score: 0.8582\n",
            "Epoch 57/120:\n",
            " Training loss: 0.1697 | Training Accuracy: 94.0452 | Validation Accuracy: 90.3846 | Validation F1 Score: 0.8982\n",
            "Epoch 58/120:\n",
            " Training loss: 0.1814 | Training Accuracy: 93.8398 | Validation Accuracy: 89.9038 | Validation F1 Score: 0.8890\n",
            "Epoch 59/120:\n",
            " Training loss: 0.1589 | Training Accuracy: 94.5585 | Validation Accuracy: 92.3077 | Validation F1 Score: 0.9106\n",
            "Epoch 60/120:\n",
            " Training loss: 0.1552 | Training Accuracy: 94.9692 | Validation Accuracy: 90.8654 | Validation F1 Score: 0.8949\n",
            "Epoch 61/120:\n",
            " Training loss: 0.1319 | Training Accuracy: 95.2772 | Validation Accuracy: 87.5000 | Validation F1 Score: 0.8632\n",
            "Epoch 62/120:\n",
            " Training loss: 0.1653 | Training Accuracy: 95.1745 | Validation Accuracy: 90.3846 | Validation F1 Score: 0.9004\n",
            "Epoch 63/120:\n",
            " Training loss: 0.2149 | Training Accuracy: 93.2238 | Validation Accuracy: 86.0577 | Validation F1 Score: 0.8523\n",
            "Epoch 64/120:\n",
            " Training loss: 0.1503 | Training Accuracy: 94.3532 | Validation Accuracy: 87.5000 | Validation F1 Score: 0.8715\n",
            "Epoch 65/120:\n",
            " Training loss: 0.1521 | Training Accuracy: 92.7105 | Validation Accuracy: 86.5385 | Validation F1 Score: 0.8568\n",
            "Epoch 66/120:\n",
            " Training loss: 0.1592 | Training Accuracy: 94.4559 | Validation Accuracy: 88.4615 | Validation F1 Score: 0.8819\n",
            "Epoch 67/120:\n",
            " Training loss: 0.1298 | Training Accuracy: 95.0719 | Validation Accuracy: 87.9808 | Validation F1 Score: 0.8706\n",
            "Epoch 68/120:\n",
            " Training loss: 0.1149 | Training Accuracy: 96.2012 | Validation Accuracy: 89.4231 | Validation F1 Score: 0.8897\n",
            "Epoch 69/120:\n",
            " Training loss: 0.1078 | Training Accuracy: 95.8932 | Validation Accuracy: 89.4231 | Validation F1 Score: 0.8907\n",
            "Epoch 70/120:\n",
            " Training loss: 0.1011 | Training Accuracy: 96.5092 | Validation Accuracy: 90.8654 | Validation F1 Score: 0.9025\n",
            "Epoch 71/120:\n",
            " Training loss: 0.1128 | Training Accuracy: 96.2012 | Validation Accuracy: 90.3846 | Validation F1 Score: 0.8980\n",
            "Epoch 72/120:\n",
            " Training loss: 0.1100 | Training Accuracy: 95.8932 | Validation Accuracy: 87.9808 | Validation F1 Score: 0.8669\n",
            "Epoch 73/120:\n",
            " Training loss: 0.1595 | Training Accuracy: 94.7639 | Validation Accuracy: 91.3462 | Validation F1 Score: 0.9051\n",
            "Epoch 74/120:\n",
            " Training loss: 0.1083 | Training Accuracy: 96.7146 | Validation Accuracy: 89.9038 | Validation F1 Score: 0.8925\n",
            "Epoch 75/120:\n",
            " Training loss: 0.0875 | Training Accuracy: 97.4333 | Validation Accuracy: 90.8654 | Validation F1 Score: 0.9031\n",
            "Epoch 76/120:\n",
            " Training loss: 0.0976 | Training Accuracy: 97.2279 | Validation Accuracy: 92.7885 | Validation F1 Score: 0.9222\n",
            "Epoch 77/120:\n",
            " Training loss: 0.0871 | Training Accuracy: 97.5359 | Validation Accuracy: 92.3077 | Validation F1 Score: 0.9189\n",
            "Epoch 78/120:\n",
            " Training loss: 0.0765 | Training Accuracy: 97.0226 | Validation Accuracy: 91.8269 | Validation F1 Score: 0.9096\n",
            "Epoch 79/120:\n",
            " Training loss: 0.0748 | Training Accuracy: 97.5359 | Validation Accuracy: 92.3077 | Validation F1 Score: 0.9120\n",
            "Epoch 80/120:\n",
            " Training loss: 0.0751 | Training Accuracy: 97.8439 | Validation Accuracy: 93.2692 | Validation F1 Score: 0.9249\n",
            "Epoch 81/120:\n",
            " Training loss: 0.0675 | Training Accuracy: 97.7413 | Validation Accuracy: 91.3462 | Validation F1 Score: 0.9055\n",
            "Epoch 82/120:\n",
            " Training loss: 0.0812 | Training Accuracy: 96.6119 | Validation Accuracy: 91.3462 | Validation F1 Score: 0.9097\n",
            "Epoch 83/120:\n",
            " Training loss: 0.0902 | Training Accuracy: 97.4333 | Validation Accuracy: 91.8269 | Validation F1 Score: 0.9086\n",
            "Epoch 84/120:\n",
            " Training loss: 0.0793 | Training Accuracy: 97.6386 | Validation Accuracy: 89.4231 | Validation F1 Score: 0.8806\n",
            "Epoch 85/120:\n",
            " Training loss: 0.0742 | Training Accuracy: 97.0226 | Validation Accuracy: 90.3846 | Validation F1 Score: 0.8966\n",
            "Epoch 86/120:\n",
            " Training loss: 0.0703 | Training Accuracy: 97.4333 | Validation Accuracy: 92.3077 | Validation F1 Score: 0.9177\n",
            "Epoch 87/120:\n",
            " Training loss: 0.0484 | Training Accuracy: 97.9466 | Validation Accuracy: 91.3462 | Validation F1 Score: 0.9081\n",
            "Epoch 88/120:\n",
            " Training loss: 0.0607 | Training Accuracy: 98.1520 | Validation Accuracy: 91.8269 | Validation F1 Score: 0.9124\n",
            "Epoch 89/120:\n",
            " Training loss: 0.0668 | Training Accuracy: 97.4333 | Validation Accuracy: 92.7885 | Validation F1 Score: 0.9182\n",
            "Epoch 90/120:\n",
            " Training loss: 0.0652 | Training Accuracy: 97.3306 | Validation Accuracy: 90.3846 | Validation F1 Score: 0.8967\n",
            "Epoch 91/120:\n",
            " Training loss: 0.0541 | Training Accuracy: 97.7413 | Validation Accuracy: 90.3846 | Validation F1 Score: 0.9000\n",
            "Epoch 92/120:\n",
            " Training loss: 0.0603 | Training Accuracy: 98.1520 | Validation Accuracy: 88.9423 | Validation F1 Score: 0.8823\n",
            "Epoch 93/120:\n",
            " Training loss: 0.0845 | Training Accuracy: 96.8172 | Validation Accuracy: 91.3462 | Validation F1 Score: 0.9077\n",
            "Epoch 94/120:\n",
            " Training loss: 0.1184 | Training Accuracy: 96.4066 | Validation Accuracy: 92.3077 | Validation F1 Score: 0.9192\n",
            "Epoch 95/120:\n",
            " Training loss: 0.0787 | Training Accuracy: 97.4333 | Validation Accuracy: 90.8654 | Validation F1 Score: 0.9087\n",
            "Epoch 96/120:\n",
            " Training loss: 0.0672 | Training Accuracy: 97.7413 | Validation Accuracy: 92.7885 | Validation F1 Score: 0.9255\n",
            "Epoch 97/120:\n",
            " Training loss: 0.0678 | Training Accuracy: 97.8439 | Validation Accuracy: 92.3077 | Validation F1 Score: 0.9187\n",
            "Epoch 98/120:\n",
            " Training loss: 0.0716 | Training Accuracy: 98.1520 | Validation Accuracy: 91.3462 | Validation F1 Score: 0.9112\n",
            "Epoch 99/120:\n",
            " Training loss: 0.0445 | Training Accuracy: 98.4600 | Validation Accuracy: 92.7885 | Validation F1 Score: 0.9226\n",
            "Epoch 100/120:\n",
            " Training loss: 0.0499 | Training Accuracy: 98.6653 | Validation Accuracy: 91.8269 | Validation F1 Score: 0.9181\n",
            "Epoch 101/120:\n",
            " Training loss: 0.0472 | Training Accuracy: 98.4600 | Validation Accuracy: 90.3846 | Validation F1 Score: 0.8903\n",
            "Epoch 102/120:\n",
            " Training loss: 0.0609 | Training Accuracy: 98.1520 | Validation Accuracy: 92.3077 | Validation F1 Score: 0.9096\n",
            "Epoch 103/120:\n",
            " Training loss: 0.0805 | Training Accuracy: 96.8172 | Validation Accuracy: 90.3846 | Validation F1 Score: 0.8960\n",
            "Epoch 104/120:\n",
            " Training loss: 0.1061 | Training Accuracy: 95.5852 | Validation Accuracy: 90.3846 | Validation F1 Score: 0.8911\n",
            "Epoch 105/120:\n",
            " Training loss: 0.0614 | Training Accuracy: 97.7413 | Validation Accuracy: 90.8654 | Validation F1 Score: 0.9010\n",
            "Epoch 106/120:\n",
            " Training loss: 0.0513 | Training Accuracy: 98.0493 | Validation Accuracy: 93.2692 | Validation F1 Score: 0.9249\n",
            "Epoch 107/120:\n",
            " Training loss: 0.0575 | Training Accuracy: 98.3573 | Validation Accuracy: 90.3846 | Validation F1 Score: 0.8976\n",
            "Epoch 108/120:\n",
            " Training loss: 0.0854 | Training Accuracy: 97.6386 | Validation Accuracy: 91.3462 | Validation F1 Score: 0.9072\n",
            "Epoch 109/120:\n",
            " Training loss: 0.0559 | Training Accuracy: 97.8439 | Validation Accuracy: 91.8269 | Validation F1 Score: 0.9115\n",
            "Epoch 110/120:\n",
            " Training loss: 0.0942 | Training Accuracy: 97.3306 | Validation Accuracy: 91.8269 | Validation F1 Score: 0.9107\n",
            "Epoch 111/120:\n",
            " Training loss: 0.0483 | Training Accuracy: 98.0493 | Validation Accuracy: 90.3846 | Validation F1 Score: 0.8958\n",
            "Epoch 112/120:\n",
            " Training loss: 0.0792 | Training Accuracy: 97.2279 | Validation Accuracy: 91.3462 | Validation F1 Score: 0.9061\n",
            "Epoch 113/120:\n",
            " Training loss: 0.0525 | Training Accuracy: 98.4600 | Validation Accuracy: 89.9038 | Validation F1 Score: 0.8903\n",
            "Epoch 114/120:\n",
            " Training loss: 0.1197 | Training Accuracy: 97.1253 | Validation Accuracy: 93.7500 | Validation F1 Score: 0.9329\n",
            "Epoch 115/120:\n",
            " Training loss: 0.0879 | Training Accuracy: 97.5359 | Validation Accuracy: 91.8269 | Validation F1 Score: 0.9136\n",
            "Epoch 116/120:\n",
            " Training loss: 0.0667 | Training Accuracy: 97.5359 | Validation Accuracy: 89.4231 | Validation F1 Score: 0.8876\n",
            "Epoch 117/120:\n",
            " Training loss: 0.0827 | Training Accuracy: 97.0226 | Validation Accuracy: 90.3846 | Validation F1 Score: 0.8991\n",
            "Epoch 118/120:\n",
            " Training loss: 0.0633 | Training Accuracy: 97.6386 | Validation Accuracy: 92.3077 | Validation F1 Score: 0.9169\n",
            "Epoch 119/120:\n",
            " Training loss: 0.0453 | Training Accuracy: 98.1520 | Validation Accuracy: 93.2692 | Validation F1 Score: 0.9233\n",
            "Epoch 120/120:\n",
            " Training loss: 0.0454 | Training Accuracy: 98.3573 | Validation Accuracy: 94.2308 | Validation F1 Score: 0.9357\n"
          ],
          "name": "stdout"
        }
      ]
    },
    {
      "cell_type": "code",
      "metadata": {
        "id": "0Gos2cFBpaKu",
        "colab_type": "code",
        "outputId": "6c9af10a-a4dc-4376-c65e-caf5f7803b43",
        "colab": {
          "base_uri": "https://localhost:8080/",
          "height": 623
        }
      },
      "source": [
        "# Plotting graphs - Training Loss, Training Accuracy, Validation accuracy, Validation F-1 score:\n",
        "\n",
        "fig = plt.figure(figsize=[15,10]) \n",
        "\n",
        "plt.subplot(221)\n",
        "plt.plot(range(num_epochs), train_loss,'r-',label = 'Training Loss') \n",
        "plt.legend(loc='upper right')\n",
        "plt.xlabel('Epochs')\n",
        "plt.ylabel('Training Loss')\n",
        "\n",
        "plt.subplot(222)\n",
        "plt.plot(range(num_epochs), train_accuracy,'g-',label = 'Training Accuracy') \n",
        "plt.legend(loc='lower right')\n",
        "plt.xlabel('Epochs')\n",
        "plt.ylabel('Training Accuracy')\n",
        "\n",
        "plt.subplot(223)\n",
        "plt.plot(range(num_epochs), validation_accuracy, 'b-', label = 'Validation Accuracy')\n",
        "plt.legend(loc = 'lower right')\n",
        "plt.xlabel('Epochs')\n",
        "plt.ylabel('Validation Accuracy')\n",
        "\n",
        "plt.subplot(224)\n",
        "plt.plot(range(num_epochs), f1_scores, 'm-', label = 'Validation F1 Score')\n",
        "plt.legend(loc = 'lower right')\n",
        "plt.xlabel('Epochs')\n",
        "plt.ylabel('Validation F1 Score')"
      ],
      "execution_count": 38,
      "outputs": [
        {
          "output_type": "execute_result",
          "data": {
            "text/plain": [
              "Text(0, 0.5, 'Validation F1 Score')"
            ]
          },
          "metadata": {
            "tags": []
          },
          "execution_count": 38
        },
        {
          "output_type": "display_data",
          "data": {
            "image/png": "[encoded data removed]",
            "text/plain": [
              "<Figure size 1080x720 with 4 Axes>"
            ]
          },
          "metadata": {
            "tags": [],
            "needs_background": "light"
          }
        }
      ]
    },
    {
      "cell_type": "code",
      "metadata": {
        "id": "u5CjQSMRpekV",
        "colab_type": "code",
        "outputId": "67d5c301-65d8-464a-9a85-8ef86329e034",
        "colab": {
          "base_uri": "https://localhost:8080/",
          "height": 34
        }
      },
      "source": [
        "# Evaluating results on the test set:\n",
        "\n",
        "correct_pred = 0\n",
        "f1 = 0\n",
        "for data in test_loader:\n",
        "    inputs,labels = data\n",
        "    if torch.cuda.is_available():\n",
        "        inputs, labels = inputs.cuda(), labels.cuda()\n",
        "    \n",
        "    output = net(inputs) \n",
        "    preds = torch.argmax(output,dim=1)\n",
        "    correct_pred += torch.sum(preds==labels)\n",
        "    \n",
        "    labels, preds = labels.cpu().numpy(), preds.cpu().numpy()\n",
        "    f1 = f1_score(labels, preds, average = 'macro')\n",
        "\n",
        "test_accuracy = correct_pred.item()/len(test_loader.dataset)\n",
        "print('Testing accuracy = ' +  str(test_accuracy*100) + ' | ' + 'F1-Score = ' + str(f1))"
      ],
      "execution_count": 40,
      "outputs": [
        {
          "output_type": "stream",
          "text": [
            "Testing accuracy = 94.28571428571428 | F1-Score = 0.9368948660888557\n"
          ],
          "name": "stdout"
        }
      ]
    },
    {
      "cell_type": "code",
      "metadata": {
        "id": "AFWblfuhakaR",
        "colab_type": "code",
        "colab": {}
      },
      "source": [
        ""
      ],
      "execution_count": 0,
      "outputs": []
    }
  ]
}